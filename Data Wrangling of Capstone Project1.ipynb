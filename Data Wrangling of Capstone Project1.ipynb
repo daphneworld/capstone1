{
 "cells": [
  {
   "cell_type": "code",
   "execution_count": 109,
   "metadata": {},
   "outputs": [
    {
     "name": "stdout",
     "output_type": "stream",
     "text": [
      "                       Center Name                 Legal Name Building  \\\n",
      "0  PRESCHOOL OF AMERICA (USA) INC.  PRESCHOOL OF AMERICA, LLC      101   \n",
      "1               YESHIVAT OHR HAIIM         YESHIVAT OHR HAIIM    86-06   \n",
      "2  PRESCHOOL OF AMERICA (USA) INC.  PRESCHOOL OF AMERICA, LLC      101   \n",
      "3  PRESCHOOL OF AMERICA (USA) INC.  PRESCHOOL OF AMERICA, LLC      101   \n",
      "4  PRESCHOOL OF AMERICA (USA) INC.  PRESCHOOL OF AMERICA, LLC      101   \n",
      "\n",
      "            Street    Borough ZipCode         Phone  Permit Number  \\\n",
      "0  WEST END AVENUE  MANHATTAN     NaN  212-362-0135         7518.0   \n",
      "1     135TH STREET     QUEENS   11418  718-658-7066            NaN   \n",
      "2  WEST END AVENUE  MANHATTAN     NaN  212-362-0135         7518.0   \n",
      "3  WEST END AVENUE  MANHATTAN     NaN  212-362-0135         7518.0   \n",
      "4  WEST END AVENUE  MANHATTAN     NaN  212-362-0135         7518.0   \n",
      "\n",
      "  Permit Expiration     Status  \\\n",
      "0           7/31/19  Permitted   \n",
      "1           1/23/15     Active   \n",
      "2           7/31/19  Permitted   \n",
      "3           7/31/19  Permitted   \n",
      "4           7/31/19  Permitted   \n",
      "\n",
      "                         ...                          \\\n",
      "0                        ...                           \n",
      "1                        ...                           \n",
      "2                        ...                           \n",
      "3                        ...                           \n",
      "4                        ...                           \n",
      "\n",
      "  Public Health Hazard Violation Rate  \\\n",
      "0                             16.6667   \n",
      "1                             33.3333   \n",
      "2                             16.6667   \n",
      "3                             16.6667   \n",
      "4                             16.6667   \n",
      "\n",
      "   Average Public Health Hazard Violation Rate Critical Violation Rate  \\\n",
      "0                                          NaN                 50.0000   \n",
      "1                                          NaN                 66.6667   \n",
      "2                                          NaN                 50.0000   \n",
      "3                                          NaN                 50.0000   \n",
      "4                                          NaN                 50.0000   \n",
      "\n",
      "  Average Critical Violation Rate Inspection Date  \\\n",
      "0                             NaN          2/6/17   \n",
      "1                             NaN         1/31/19   \n",
      "2                             NaN          5/9/18   \n",
      "3                             NaN         2/28/17   \n",
      "4                             NaN        11/20/17   \n",
      "\n",
      "                                  Regulation Summary  Violation Category  \\\n",
      "0  Exits and other egress not provided with requi...            CRITICAL   \n",
      "1  All staff who will have unsupervised contact w...             GENERAL   \n",
      "2  There were no new violations observed at the t...                 NaN   \n",
      "3  There were no new violations observed at the t...                 NaN   \n",
      "4  At time of inspection floors/walls ceilings we...             GENERAL   \n",
      "\n",
      "  Health Code Sub Section Violation Status  \\\n",
      "0               47.59 (a)        CORRECTED   \n",
      "1                43.13(a)        CORRECTED   \n",
      "2                     NaN              NaN   \n",
      "3                     NaN              NaN   \n",
      "4               47.41 (j)        CORRECTED   \n",
      "\n",
      "                           Inspection Summary Result  \n",
      "0  Initial Annual Inspection - Reinspection Required  \n",
      "1  Initial Annual Inspection - Reinspection Required  \n",
      "2  Compliance Inspection of Open Violations - Pre...  \n",
      "3  Initial Annual Inspection - Reinspection Not R...  \n",
      "4  Initial Annual Inspection - Reinspection Required  \n",
      "\n",
      "[5 rows x 34 columns]\n"
     ]
    }
   ],
   "source": [
    "# importing relevant packages\n",
    "import pandas as pd\n",
    "# importing the data\n",
    "data=pd.read_csv('/Users/mustafacanan/Desktop/DataFolder/DOHMH_Childcare_Center_Inspections.csv',\n",
    "                 dtype={'ZipCode': 'str'})\n",
    "print(data.head())"
   ]
  },
  {
   "cell_type": "code",
   "execution_count": 110,
   "metadata": {},
   "outputs": [
    {
     "name": "stdout",
     "output_type": "stream",
     "text": [
      "(57057, 34)\n",
      "Index(['Center Name', 'Legal Name', 'Building', 'Street', 'Borough', 'ZipCode',\n",
      "       'Phone', 'Permit Number', 'Permit Expiration', 'Status', 'Age Range',\n",
      "       'Maximum Capacity', 'Day Care ID', 'Program Type', 'Facility Type',\n",
      "       'Child Care Type', 'Building Identification Number', 'URL',\n",
      "       'Date Permitted', 'Actual', 'Violation Rate Percent',\n",
      "       'Average Violation Rate Percent', 'Total Educational Workers',\n",
      "       'Average Total Educational Workers',\n",
      "       'Public Health Hazard Violation Rate',\n",
      "       'Average Public Health Hazard Violation Rate',\n",
      "       'Critical Violation Rate', 'Average Critical Violation Rate',\n",
      "       'Inspection Date', 'Regulation Summary', 'Violation Category',\n",
      "       'Health Code Sub Section', 'Violation Status',\n",
      "       'Inspection Summary Result'],\n",
      "      dtype='object')\n"
     ]
    }
   ],
   "source": [
    "# exploring the data\n",
    "print(data.shape)\n",
    "print(data.columns)"
   ]
  },
  {
   "cell_type": "code",
   "execution_count": 111,
   "metadata": {},
   "outputs": [
    {
     "name": "stdout",
     "output_type": "stream",
     "text": [
      "Center Name                                     object\n",
      "Legal Name                                      object\n",
      "Building                                        object\n",
      "Street                                          object\n",
      "Borough                                         object\n",
      "ZipCode                                         object\n",
      "Phone                                           object\n",
      "Permit Number                                  float64\n",
      "Permit Expiration                               object\n",
      "Status                                          object\n",
      "Age Range                                       object\n",
      "Maximum Capacity                                 int64\n",
      "Day Care ID                                     object\n",
      "Program Type                                    object\n",
      "Facility Type                                   object\n",
      "Child Care Type                                 object\n",
      "Building Identification Number                   int64\n",
      "URL                                             object\n",
      "Date Permitted                                  object\n",
      "Actual                                          object\n",
      "Violation Rate Percent                         float64\n",
      "Average Violation Rate Percent                 float64\n",
      "Total Educational Workers                        int64\n",
      "Average Total Educational Workers              float64\n",
      "Public Health Hazard Violation Rate            float64\n",
      "Average Public Health Hazard Violation Rate    float64\n",
      "Critical Violation Rate                        float64\n",
      "Average Critical Violation Rate                float64\n",
      "Inspection Date                                 object\n",
      "Regulation Summary                              object\n",
      "Violation Category                              object\n",
      "Health Code Sub Section                         object\n",
      "Violation Status                                object\n",
      "Inspection Summary Result                       object\n",
      "dtype: object\n",
      "       Permit Number  Maximum Capacity  Building Identification Number  \\\n",
      "count   50417.000000      57057.000000                    5.705700e+04   \n",
      "mean    33061.734276         72.344007                    2.244241e+06   \n",
      "std     36929.299906         86.046495                    1.557269e+06   \n",
      "min       375.000000          0.000000                    0.000000e+00   \n",
      "25%      6659.000000         26.000000                    1.019113e+06   \n",
      "50%      8173.000000         54.000000                    2.073259e+06   \n",
      "75%     56637.000000         98.000000                    3.343171e+06   \n",
      "max    104829.000000       3256.000000                    5.170168e+06   \n",
      "\n",
      "       Violation Rate Percent  Average Violation Rate Percent  \\\n",
      "count            56933.000000                    56868.000000   \n",
      "mean                48.298585                       35.776750   \n",
      "std                 26.621974                        2.256466   \n",
      "min                  0.000000                       33.090400   \n",
      "25%                 33.333300                       35.368400   \n",
      "50%                 50.000000                       35.368400   \n",
      "75%                 66.666700                       35.368400   \n",
      "max                100.000000                       41.548600   \n",
      "\n",
      "       Total Educational Workers  Average Total Educational Workers  \\\n",
      "count               57057.000000                       57057.000000   \n",
      "mean                   11.724766                           9.894186   \n",
      "std                    10.386172                           2.801257   \n",
      "min                     0.000000                           0.000000   \n",
      "25%                     5.000000                           7.380300   \n",
      "50%                     9.000000                          11.510300   \n",
      "75%                    15.000000                          11.510300   \n",
      "max                   117.000000                          11.510300   \n",
      "\n",
      "       Public Health Hazard Violation Rate  \\\n",
      "count                         56933.000000   \n",
      "mean                             24.224660   \n",
      "std                              23.460477   \n",
      "min                               0.000000   \n",
      "25%                               0.000000   \n",
      "50%                              20.000000   \n",
      "75%                              33.333300   \n",
      "max                             100.000000   \n",
      "\n",
      "       Average Public Health Hazard Violation Rate  Critical Violation Rate  \\\n",
      "count                                 56868.000000             56933.000000   \n",
      "mean                                     15.943422                42.733763   \n",
      "std                                       3.451089                25.910856   \n",
      "min                                      12.894200                 0.000000   \n",
      "25%                                      14.749000                25.000000   \n",
      "50%                                      14.749000                40.000000   \n",
      "75%                                      14.749000                60.000000   \n",
      "max                                      24.682900               100.000000   \n",
      "\n",
      "       Average Critical Violation Rate  \n",
      "count                     56868.000000  \n",
      "mean                         31.327068  \n",
      "std                           1.131203  \n",
      "min                          27.591600  \n",
      "25%                          31.602600  \n",
      "50%                          31.858000  \n",
      "75%                          31.858000  \n",
      "max                          31.858000  \n"
     ]
    }
   ],
   "source": [
    "print(data.dtypes)\n",
    "print(data.describe())"
   ]
  },
  {
   "cell_type": "code",
   "execution_count": 112,
   "metadata": {},
   "outputs": [
    {
     "name": "stdout",
     "output_type": "stream",
     "text": [
      "(57057, 26)\n"
     ]
    }
   ],
   "source": [
    "# Removing the unnecessary information columns\n",
    "data_a=data.drop(columns=['Phone','Permit Number','Day Care ID','Building Identification Number',\n",
    "                          'URL','Building','Street','Health Code Sub Section'])\n",
    "# print the new size of data\n",
    "print(data_a.shape)"
   ]
  },
  {
   "cell_type": "code",
   "execution_count": 113,
   "metadata": {},
   "outputs": [
    {
     "data": {
      "text/plain": [
       "False    41882\n",
       "True     15175\n",
       "dtype: int64"
      ]
     },
     "execution_count": 113,
     "metadata": {},
     "output_type": "execute_result"
    }
   ],
   "source": [
    "# Checking the duplicated rows\n",
    "data_a.duplicated().value_counts()"
   ]
  },
  {
   "cell_type": "code",
   "execution_count": 114,
   "metadata": {},
   "outputs": [
    {
     "data": {
      "text/plain": [
       "False    41882\n",
       "dtype: int64"
      ]
     },
     "execution_count": 114,
     "metadata": {},
     "output_type": "execute_result"
    }
   ],
   "source": [
    "# Removing the duplicated rows\n",
    "data_b=data_a.drop_duplicates()\n",
    "data_b.duplicated().value_counts()"
   ]
  },
  {
   "cell_type": "code",
   "execution_count": 115,
   "metadata": {},
   "outputs": [
    {
     "data": {
      "text/plain": [
       "Center Name                                        0\n",
       "Legal Name                                         0\n",
       "Borough                                            0\n",
       "ZipCode                                         7370\n",
       "Permit Expiration                                  0\n",
       "Status                                             0\n",
       "Age Range                                       3100\n",
       "Maximum Capacity                                   0\n",
       "Program Type                                       0\n",
       "Facility Type                                      0\n",
       "Child Care Type                                    0\n",
       "Date Permitted                                  4288\n",
       "Actual                                          4288\n",
       "Violation Rate Percent                           124\n",
       "Average Violation Rate Percent                   173\n",
       "Total Educational Workers                          0\n",
       "Average Total Educational Workers                  0\n",
       "Public Health Hazard Violation Rate              124\n",
       "Average Public Health Hazard Violation Rate      173\n",
       "Critical Violation Rate                          124\n",
       "Average Critical Violation Rate                  173\n",
       "Inspection Date                                   81\n",
       "Regulation Summary                                81\n",
       "Violation Category                             14983\n",
       "Violation Status                               14983\n",
       "Inspection Summary Result                        120\n",
       "dtype: int64"
      ]
     },
     "execution_count": 115,
     "metadata": {},
     "output_type": "execute_result"
    }
   ],
   "source": [
    "# Checking the missing values\n",
    "data_b.isnull().sum()"
   ]
  },
  {
   "cell_type": "code",
   "execution_count": 116,
   "metadata": {},
   "outputs": [
    {
     "name": "stdout",
     "output_type": "stream",
     "text": [
      "(40081, 26)\n"
     ]
    }
   ],
   "source": [
    "# Removing the rows with more than 23 missing values\n",
    "data_c=data_b.dropna(thresh=23)\n",
    "# print the new size of data\n",
    "print(data_c.shape)"
   ]
  },
  {
   "cell_type": "code",
   "execution_count": 117,
   "metadata": {},
   "outputs": [
    {
     "data": {
      "text/plain": [
       "Center Name                                        0\n",
       "Legal Name                                         0\n",
       "Borough                                            0\n",
       "ZipCode                                         6783\n",
       "Permit Expiration                                  0\n",
       "Status                                             0\n",
       "Age Range                                       2797\n",
       "Maximum Capacity                                   0\n",
       "Program Type                                       0\n",
       "Facility Type                                      0\n",
       "Child Care Type                                    0\n",
       "Date Permitted                                  2867\n",
       "Actual                                          2867\n",
       "Violation Rate Percent                             0\n",
       "Average Violation Rate Percent                     0\n",
       "Total Educational Workers                          0\n",
       "Average Total Educational Workers                  0\n",
       "Public Health Hazard Violation Rate                0\n",
       "Average Public Health Hazard Violation Rate        0\n",
       "Critical Violation Rate                            0\n",
       "Average Critical Violation Rate                    0\n",
       "Inspection Date                                    0\n",
       "Regulation Summary                                 0\n",
       "Violation Category                             13244\n",
       "Violation Status                               13244\n",
       "Inspection Summary Result                         27\n",
       "dtype: int64"
      ]
     },
     "execution_count": 117,
     "metadata": {},
     "output_type": "execute_result"
    }
   ],
   "source": [
    "# Checking the missing values\n",
    "data_c.isnull().sum()"
   ]
  },
  {
   "cell_type": "code",
   "execution_count": 118,
   "metadata": {},
   "outputs": [
    {
     "name": "stdout",
     "output_type": "stream",
     "text": [
      "0\n"
     ]
    }
   ],
   "source": [
    "# Handling missing values of ZipCode\n",
    "data_c['ZipCode'].fillna(method='bfill',inplace=True)\n",
    "#print the info of ZipCode\n",
    "print(data_c['ZipCode'].isnull().sum())"
   ]
  },
  {
   "cell_type": "code",
   "execution_count": 119,
   "metadata": {},
   "outputs": [
    {
     "data": {
      "text/plain": [
       "Center Name                                    0\n",
       "Legal Name                                     0\n",
       "Borough                                        0\n",
       "ZipCode                                        0\n",
       "Permit Expiration                              0\n",
       "Status                                         0\n",
       "Age Range                                      0\n",
       "Maximum Capacity                               0\n",
       "Program Type                                   0\n",
       "Facility Type                                  0\n",
       "Child Care Type                                0\n",
       "Date Permitted                                 0\n",
       "Actual                                         0\n",
       "Violation Rate Percent                         0\n",
       "Average Violation Rate Percent                 0\n",
       "Total Educational Workers                      0\n",
       "Average Total Educational Workers              0\n",
       "Public Health Hazard Violation Rate            0\n",
       "Average Public Health Hazard Violation Rate    0\n",
       "Critical Violation Rate                        0\n",
       "Average Critical Violation Rate                0\n",
       "Inspection Date                                0\n",
       "Regulation Summary                             0\n",
       "Violation Category                             0\n",
       "Violation Status                               0\n",
       "Inspection Summary Result                      0\n",
       "dtype: int64"
      ]
     },
     "execution_count": 119,
     "metadata": {},
     "output_type": "execute_result"
    }
   ],
   "source": [
    "#filling in the missing values\n",
    "data_c.fillna(0,inplace=True)\n",
    "# Checking the missing values\n",
    "data_c.isnull().sum()   "
   ]
  },
  {
   "cell_type": "code",
   "execution_count": 120,
   "metadata": {},
   "outputs": [
    {
     "name": "stdout",
     "output_type": "stream",
     "text": [
      "Center Name                                     object\n",
      "Legal Name                                      object\n",
      "Borough                                         object\n",
      "ZipCode                                         object\n",
      "Permit Expiration                               object\n",
      "Status                                          object\n",
      "Age Range                                       object\n",
      "Maximum Capacity                                 int64\n",
      "Program Type                                    object\n",
      "Facility Type                                   object\n",
      "Child Care Type                                 object\n",
      "Date Permitted                                  object\n",
      "Actual                                          object\n",
      "Violation Rate Percent                         float64\n",
      "Average Violation Rate Percent                 float64\n",
      "Total Educational Workers                        int64\n",
      "Average Total Educational Workers              float64\n",
      "Public Health Hazard Violation Rate            float64\n",
      "Average Public Health Hazard Violation Rate    float64\n",
      "Critical Violation Rate                        float64\n",
      "Average Critical Violation Rate                float64\n",
      "Inspection Date                                 object\n",
      "Regulation Summary                              object\n",
      "Violation Category                              object\n",
      "Violation Status                                object\n",
      "Inspection Summary Result                       object\n",
      "dtype: object\n"
     ]
    }
   ],
   "source": [
    "#print the type of the columns\n",
    "print(data_c.dtypes)"
   ]
  },
  {
   "cell_type": "code",
   "execution_count": 121,
   "metadata": {},
   "outputs": [
    {
     "name": "stdout",
     "output_type": "stream",
     "text": [
      "Index(['CenterName', 'LegalName', 'Borough', 'ZipCode', 'PermitExpiration',\n",
      "       'Status', 'AgeRange', 'MaximumCapacity', 'ProgramType', 'FacilityType',\n",
      "       'ChildCareType', 'DatePermitted', 'Actual', 'ViolationRatePercent',\n",
      "       'AverageViolationRatePercent', 'TotalEducationalWorkers',\n",
      "       'AverageTotalEducationalWorkers', 'PublicHealthHazardViolationRate',\n",
      "       'AveragePublicHealthHazardViolationRate', 'CriticalViolationRate',\n",
      "       'AverageCriticalViolationRate', 'InspectionDate', 'RegulationSummary',\n",
      "       'ViolationCategory', 'ViolationStatus', 'InspectionSummaryResult'],\n",
      "      dtype='object')\n"
     ]
    }
   ],
   "source": [
    "# Removing the white spaces in column names\n",
    "data_c.columns = data_c.columns.str.replace(' ', '')\n",
    "# print the columns names\n",
    "print(data_c.columns)"
   ]
  },
  {
   "cell_type": "code",
   "execution_count": 102,
   "metadata": {},
   "outputs": [
    {
     "data": {
      "text/plain": [
       "array(['GDC', 'SBCC', 'Camp', 'CAMP'], dtype=object)"
      ]
     },
     "execution_count": 102,
     "metadata": {},
     "output_type": "execute_result"
    }
   ],
   "source": [
    "#Exploring the bad data\n",
    "data_c.FacilityType.unique()"
   ]
  },
  {
   "cell_type": "code",
   "execution_count": 107,
   "metadata": {},
   "outputs": [
    {
     "data": {
      "text/plain": [
       "array(['gdc', 'sbcc', 'camp'], dtype=object)"
      ]
     },
     "execution_count": 107,
     "metadata": {},
     "output_type": "execute_result"
    }
   ],
   "source": [
    "#Replacing the bad data\n",
    "data_c.FacilityType=data_c.FacilityType.str.lower()\n",
    "data_c.FacilityType.unique()"
   ]
  },
  {
   "cell_type": "code",
   "execution_count": 124,
   "metadata": {},
   "outputs": [],
   "source": [
    "# exporting data\n",
    "data_c.to_csv('Child_Care_Data.csv', index = False)"
   ]
  }
 ],
 "metadata": {
  "kernelspec": {
   "display_name": "Python 3",
   "language": "python",
   "name": "python3"
  },
  "language_info": {
   "codemirror_mode": {
    "name": "ipython",
    "version": 3
   },
   "file_extension": ".py",
   "mimetype": "text/x-python",
   "name": "python",
   "nbconvert_exporter": "python",
   "pygments_lexer": "ipython3",
   "version": "3.7.1"
  }
 },
 "nbformat": 4,
 "nbformat_minor": 2
}
