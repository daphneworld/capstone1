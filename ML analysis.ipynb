{
 "cells": [
  {
   "cell_type": "markdown",
   "metadata": {},
   "source": [
    "# In-Depth Analysis: Machine Learning Section\n",
    "\n",
    "## Predicting Safety Levels of Childcare Centers\n",
    "\n",
    "### Import Packages"
   ]
  },
  {
   "cell_type": "code",
   "execution_count": 73,
   "metadata": {},
   "outputs": [],
   "source": [
    "import numpy as np\n",
    "import matplotlib.pyplot as plt\n",
    "from sklearn import feature_selection\n",
    "from sklearn.base import BaseEstimator, TransformerMixin\n",
    "import pandas as pd\n",
    "from sklearn.externals import joblib\n",
    "from sklearn.preprocessing import StandardScaler\n",
    "from sklearn.ensemble import RandomForestClassifier\n",
    "from sklearn.pipeline import Pipeline, FeatureUnion, make_pipeline\n",
    "from sklearn.model_selection import train_test_split\n",
    "import warnings\n",
    "from sklearn.feature_extraction.text import TfidfVectorizer\n",
    "from sklearn.metrics import accuracy_score\n",
    "from sklearn.model_selection import cross_val_score\n",
    "from sklearn.ensemble import ExtraTreesClassifier\n",
    "from sklearn.ensemble import GradientBoostingClassifier\n",
    "from sklearn.model_selection import StratifiedKFold\n",
    "import argparse\n",
    "warnings.filterwarnings('ignore')"
   ]
  },
  {
   "cell_type": "markdown",
   "metadata": {},
   "source": [
    "###  Load data"
   ]
  },
  {
   "cell_type": "code",
   "execution_count": 5,
   "metadata": {},
   "outputs": [
    {
     "data": {
      "text/html": [
       "<div>\n",
       "<style scoped>\n",
       "    .dataframe tbody tr th:only-of-type {\n",
       "        vertical-align: middle;\n",
       "    }\n",
       "\n",
       "    .dataframe tbody tr th {\n",
       "        vertical-align: top;\n",
       "    }\n",
       "\n",
       "    .dataframe thead th {\n",
       "        text-align: right;\n",
       "    }\n",
       "</style>\n",
       "<table border=\"1\" class=\"dataframe\">\n",
       "  <thead>\n",
       "    <tr style=\"text-align: right;\">\n",
       "      <th></th>\n",
       "      <th>MaximumCapacity</th>\n",
       "      <th>ViolationRatePercent</th>\n",
       "      <th>TotalEducationalWorkers</th>\n",
       "      <th>PublicHealthHazardViolationRate</th>\n",
       "      <th>CriticalViolationRate</th>\n",
       "      <th>time</th>\n",
       "      <th>RegulationSummary</th>\n",
       "      <th>InspectionSummaryResult</th>\n",
       "      <th>Borough</th>\n",
       "      <th>FacilityType</th>\n",
       "      <th>Safety</th>\n",
       "    </tr>\n",
       "  </thead>\n",
       "  <tbody>\n",
       "    <tr>\n",
       "      <th>0</th>\n",
       "      <td>171</td>\n",
       "      <td>50.0000</td>\n",
       "      <td>0</td>\n",
       "      <td>16.6667</td>\n",
       "      <td>50.0000</td>\n",
       "      <td>5126</td>\n",
       "      <td>Exits and other egress not provided with requi...</td>\n",
       "      <td>Initial Annual Inspection - Reinspection Required</td>\n",
       "      <td>MANHATTAN</td>\n",
       "      <td>gdc</td>\n",
       "      <td>Not Safe</td>\n",
       "    </tr>\n",
       "    <tr>\n",
       "      <th>1</th>\n",
       "      <td>0</td>\n",
       "      <td>66.6667</td>\n",
       "      <td>0</td>\n",
       "      <td>33.3333</td>\n",
       "      <td>66.6667</td>\n",
       "      <td>16458</td>\n",
       "      <td>All staff who will have unsupervised contact w...</td>\n",
       "      <td>Initial Annual Inspection - Reinspection Required</td>\n",
       "      <td>QUEENS</td>\n",
       "      <td>sbcc</td>\n",
       "      <td>Warning</td>\n",
       "    </tr>\n",
       "    <tr>\n",
       "      <th>2</th>\n",
       "      <td>171</td>\n",
       "      <td>50.0000</td>\n",
       "      <td>0</td>\n",
       "      <td>16.6667</td>\n",
       "      <td>50.0000</td>\n",
       "      <td>5126</td>\n",
       "      <td>There were no new violations observed at the t...</td>\n",
       "      <td>Compliance Inspection of Open Violations - Pre...</td>\n",
       "      <td>MANHATTAN</td>\n",
       "      <td>gdc</td>\n",
       "      <td>Not Safe</td>\n",
       "    </tr>\n",
       "    <tr>\n",
       "      <th>3</th>\n",
       "      <td>171</td>\n",
       "      <td>50.0000</td>\n",
       "      <td>0</td>\n",
       "      <td>16.6667</td>\n",
       "      <td>50.0000</td>\n",
       "      <td>5126</td>\n",
       "      <td>There were no new violations observed at the t...</td>\n",
       "      <td>Initial Annual Inspection - Reinspection Not R...</td>\n",
       "      <td>MANHATTAN</td>\n",
       "      <td>gdc</td>\n",
       "      <td>Not Safe</td>\n",
       "    </tr>\n",
       "    <tr>\n",
       "      <th>4</th>\n",
       "      <td>171</td>\n",
       "      <td>50.0000</td>\n",
       "      <td>0</td>\n",
       "      <td>16.6667</td>\n",
       "      <td>50.0000</td>\n",
       "      <td>5126</td>\n",
       "      <td>At time of inspection floors/walls ceilings we...</td>\n",
       "      <td>Initial Annual Inspection - Reinspection Required</td>\n",
       "      <td>MANHATTAN</td>\n",
       "      <td>gdc</td>\n",
       "      <td>Not Safe</td>\n",
       "    </tr>\n",
       "  </tbody>\n",
       "</table>\n",
       "</div>"
      ],
      "text/plain": [
       "   MaximumCapacity  ViolationRatePercent  TotalEducationalWorkers  \\\n",
       "0              171               50.0000                        0   \n",
       "1                0               66.6667                        0   \n",
       "2              171               50.0000                        0   \n",
       "3              171               50.0000                        0   \n",
       "4              171               50.0000                        0   \n",
       "\n",
       "   PublicHealthHazardViolationRate  CriticalViolationRate   time  \\\n",
       "0                          16.6667                50.0000   5126   \n",
       "1                          33.3333                66.6667  16458   \n",
       "2                          16.6667                50.0000   5126   \n",
       "3                          16.6667                50.0000   5126   \n",
       "4                          16.6667                50.0000   5126   \n",
       "\n",
       "                                   RegulationSummary  \\\n",
       "0  Exits and other egress not provided with requi...   \n",
       "1  All staff who will have unsupervised contact w...   \n",
       "2  There were no new violations observed at the t...   \n",
       "3  There were no new violations observed at the t...   \n",
       "4  At time of inspection floors/walls ceilings we...   \n",
       "\n",
       "                             InspectionSummaryResult    Borough FacilityType  \\\n",
       "0  Initial Annual Inspection - Reinspection Required  MANHATTAN          gdc   \n",
       "1  Initial Annual Inspection - Reinspection Required     QUEENS         sbcc   \n",
       "2  Compliance Inspection of Open Violations - Pre...  MANHATTAN          gdc   \n",
       "3  Initial Annual Inspection - Reinspection Not R...  MANHATTAN          gdc   \n",
       "4  Initial Annual Inspection - Reinspection Required  MANHATTAN          gdc   \n",
       "\n",
       "     Safety  \n",
       "0  Not Safe  \n",
       "1   Warning  \n",
       "2  Not Safe  \n",
       "3  Not Safe  \n",
       "4  Not Safe  "
      ]
     },
     "execution_count": 5,
     "metadata": {},
     "output_type": "execute_result"
    }
   ],
   "source": [
    "data=pd.read_csv('ml_data.csv',index_col=False)\n",
    "df=data.drop(['ViolationStatus','ViolationCategory'],axis=1)\n",
    "df.head()"
   ]
  },
  {
   "cell_type": "code",
   "execution_count": 55,
   "metadata": {},
   "outputs": [
    {
     "data": {
      "text/html": [
       "<div>\n",
       "<style scoped>\n",
       "    .dataframe tbody tr th:only-of-type {\n",
       "        vertical-align: middle;\n",
       "    }\n",
       "\n",
       "    .dataframe tbody tr th {\n",
       "        vertical-align: top;\n",
       "    }\n",
       "\n",
       "    .dataframe thead th {\n",
       "        text-align: right;\n",
       "    }\n",
       "</style>\n",
       "<table border=\"1\" class=\"dataframe\">\n",
       "  <thead>\n",
       "    <tr style=\"text-align: right;\">\n",
       "      <th></th>\n",
       "      <th>MaximumCapacity</th>\n",
       "      <th>ViolationRatePercent</th>\n",
       "      <th>TotalEducationalWorkers</th>\n",
       "      <th>PublicHealthHazardViolationRate</th>\n",
       "      <th>CriticalViolationRate</th>\n",
       "      <th>time</th>\n",
       "      <th>RegulationSummary</th>\n",
       "      <th>InspectionSummaryResult</th>\n",
       "      <th>Borough</th>\n",
       "      <th>FacilityType</th>\n",
       "      <th>Safety</th>\n",
       "    </tr>\n",
       "  </thead>\n",
       "  <tbody>\n",
       "    <tr>\n",
       "      <th>0</th>\n",
       "      <td>171</td>\n",
       "      <td>50.0000</td>\n",
       "      <td>0</td>\n",
       "      <td>16.6667</td>\n",
       "      <td>50.0000</td>\n",
       "      <td>5126</td>\n",
       "      <td>Exits and other egress not provided with requi...</td>\n",
       "      <td>Initial Annual Inspection - Reinspection Required</td>\n",
       "      <td>MANHATTAN</td>\n",
       "      <td>gdc</td>\n",
       "      <td>1</td>\n",
       "    </tr>\n",
       "    <tr>\n",
       "      <th>1</th>\n",
       "      <td>0</td>\n",
       "      <td>66.6667</td>\n",
       "      <td>0</td>\n",
       "      <td>33.3333</td>\n",
       "      <td>66.6667</td>\n",
       "      <td>16458</td>\n",
       "      <td>All staff who will have unsupervised contact w...</td>\n",
       "      <td>Initial Annual Inspection - Reinspection Required</td>\n",
       "      <td>QUEENS</td>\n",
       "      <td>sbcc</td>\n",
       "      <td>3</td>\n",
       "    </tr>\n",
       "    <tr>\n",
       "      <th>2</th>\n",
       "      <td>171</td>\n",
       "      <td>50.0000</td>\n",
       "      <td>0</td>\n",
       "      <td>16.6667</td>\n",
       "      <td>50.0000</td>\n",
       "      <td>5126</td>\n",
       "      <td>There were no new violations observed at the t...</td>\n",
       "      <td>Compliance Inspection of Open Violations - Pre...</td>\n",
       "      <td>MANHATTAN</td>\n",
       "      <td>gdc</td>\n",
       "      <td>1</td>\n",
       "    </tr>\n",
       "    <tr>\n",
       "      <th>3</th>\n",
       "      <td>171</td>\n",
       "      <td>50.0000</td>\n",
       "      <td>0</td>\n",
       "      <td>16.6667</td>\n",
       "      <td>50.0000</td>\n",
       "      <td>5126</td>\n",
       "      <td>There were no new violations observed at the t...</td>\n",
       "      <td>Initial Annual Inspection - Reinspection Not R...</td>\n",
       "      <td>MANHATTAN</td>\n",
       "      <td>gdc</td>\n",
       "      <td>1</td>\n",
       "    </tr>\n",
       "    <tr>\n",
       "      <th>4</th>\n",
       "      <td>171</td>\n",
       "      <td>50.0000</td>\n",
       "      <td>0</td>\n",
       "      <td>16.6667</td>\n",
       "      <td>50.0000</td>\n",
       "      <td>5126</td>\n",
       "      <td>At time of inspection floors/walls ceilings we...</td>\n",
       "      <td>Initial Annual Inspection - Reinspection Required</td>\n",
       "      <td>MANHATTAN</td>\n",
       "      <td>gdc</td>\n",
       "      <td>1</td>\n",
       "    </tr>\n",
       "  </tbody>\n",
       "</table>\n",
       "</div>"
      ],
      "text/plain": [
       "   MaximumCapacity  ViolationRatePercent  TotalEducationalWorkers  \\\n",
       "0              171               50.0000                        0   \n",
       "1                0               66.6667                        0   \n",
       "2              171               50.0000                        0   \n",
       "3              171               50.0000                        0   \n",
       "4              171               50.0000                        0   \n",
       "\n",
       "   PublicHealthHazardViolationRate  CriticalViolationRate   time  \\\n",
       "0                          16.6667                50.0000   5126   \n",
       "1                          33.3333                66.6667  16458   \n",
       "2                          16.6667                50.0000   5126   \n",
       "3                          16.6667                50.0000   5126   \n",
       "4                          16.6667                50.0000   5126   \n",
       "\n",
       "                                   RegulationSummary  \\\n",
       "0  Exits and other egress not provided with requi...   \n",
       "1  All staff who will have unsupervised contact w...   \n",
       "2  There were no new violations observed at the t...   \n",
       "3  There were no new violations observed at the t...   \n",
       "4  At time of inspection floors/walls ceilings we...   \n",
       "\n",
       "                             InspectionSummaryResult    Borough FacilityType  \\\n",
       "0  Initial Annual Inspection - Reinspection Required  MANHATTAN          gdc   \n",
       "1  Initial Annual Inspection - Reinspection Required     QUEENS         sbcc   \n",
       "2  Compliance Inspection of Open Violations - Pre...  MANHATTAN          gdc   \n",
       "3  Initial Annual Inspection - Reinspection Not R...  MANHATTAN          gdc   \n",
       "4  Initial Annual Inspection - Reinspection Required  MANHATTAN          gdc   \n",
       "\n",
       "   Safety  \n",
       "0       1  \n",
       "1       3  \n",
       "2       1  \n",
       "3       1  \n",
       "4       1  "
      ]
     },
     "execution_count": 55,
     "metadata": {},
     "output_type": "execute_result"
    }
   ],
   "source": [
    "# Creating numerical values for target feature\n",
    "df['Safety'] = df['Safety'].replace('Not Safe', 1)\n",
    "df['Safety'] = df['Safety'].replace('Safe', 2)\n",
    "df['Safety'] = df['Safety'].replace('Warning', 3)\n",
    "df.head()"
   ]
  },
  {
   "cell_type": "code",
   "execution_count": 7,
   "metadata": {},
   "outputs": [
    {
     "data": {
      "text/plain": [
       "1    28949\n",
       "3    11190\n",
       "2     1640\n",
       "Name: Safety, dtype: int64"
      ]
     },
     "execution_count": 7,
     "metadata": {},
     "output_type": "execute_result"
    }
   ],
   "source": [
    "# Checking the balance\n",
    "df.Safety.value_counts()"
   ]
  },
  {
   "cell_type": "markdown",
   "metadata": {},
   "source": [
    "### Upsampling the imbalance data"
   ]
  },
  {
   "cell_type": "code",
   "execution_count": 8,
   "metadata": {},
   "outputs": [],
   "source": [
    "from sklearn.utils import resample\n",
    "y=df.Safety\n",
    "X=df.drop('Safety', axis=1)\n",
    "X_train, X_test, y_train, y_test= train_test_split(X,y,test_size=0.4,random_state=42)"
   ]
  },
  {
   "cell_type": "code",
   "execution_count": 9,
   "metadata": {},
   "outputs": [],
   "source": [
    "X_new = pd.concat([X_train, y_train], axis=1)\n",
    "low = X_new[X_new.Safety==3]\n",
    "middle= X_new[X_new.Safety==2]\n",
    "high = X_new[X_new.Safety==1]"
   ]
  },
  {
   "cell_type": "markdown",
   "metadata": {},
   "source": [
    "I tried upsampling technique to remove class imbalance."
   ]
  },
  {
   "cell_type": "code",
   "execution_count": 10,
   "metadata": {},
   "outputs": [
    {
     "data": {
      "text/plain": [
       "3    17317\n",
       "2    17317\n",
       "1    17317\n",
       "Name: Safety, dtype: int64"
      ]
     },
     "execution_count": 10,
     "metadata": {},
     "output_type": "execute_result"
    }
   ],
   "source": [
    "low_upsampled = resample(low,\n",
    "                          replace=True, # sample with replacement\n",
    "                          n_samples=len(high), # match number in majority class\n",
    "                          random_state=27) # reproducible results\n",
    "middle_upsampled=resample(middle,\n",
    "                          replace=True,\n",
    "                          n_samples=len(high),\n",
    "                          random_state=27)\n",
    "# combine majority and upsampled minority\n",
    "upsampled = pd.concat([high, low_upsampled,middle_upsampled])\n",
    "\n",
    "# check new class counts\n",
    "upsampled.Safety.value_counts()"
   ]
  },
  {
   "cell_type": "code",
   "execution_count": 75,
   "metadata": {},
   "outputs": [],
   "source": [
    "y=upsampled.Safety\n",
    "X=upsampled.drop('Safety', axis=1)\n",
    "features = X.as_matrix()\n",
    "target=y.as_matrix()"
   ]
  },
  {
   "cell_type": "markdown",
   "metadata": {},
   "source": [
    "### Defining Basic Functions \n"
   ]
  },
  {
   "cell_type": "code",
   "execution_count": 12,
   "metadata": {},
   "outputs": [],
   "source": [
    "class PositionalSelector(BaseEstimator, TransformerMixin):\n",
    "    def __init__(self, positions):\n",
    "        self.positions = positions\n",
    "\n",
    "    def fit(self, X, y=None):\n",
    "        return self\n",
    "\n",
    "    def transform(self, X):\n",
    "        return np.array(X)[:, self.positions]\n",
    "\n",
    "\n",
    "class StripString(BaseEstimator, TransformerMixin):\n",
    "    def fit(self, X, y=None):\n",
    "        return self\n",
    "\n",
    "    def transform(self, X):\n",
    "        strip = np.vectorize(str.strip)\n",
    "        return strip(np.array(X))\n",
    "\n",
    "\n",
    "class SimpleOneHotEncoder(BaseEstimator, TransformerMixin):\n",
    "    def fit(self, X, y=None):\n",
    "        self.values = []\n",
    "        for c in range(X.shape[1]):\n",
    "            Y = X[:, c]\n",
    "            values = {v: i for i, v in enumerate(np.unique(Y))}\n",
    "            self.values.append(values)\n",
    "        return self\n",
    "\n",
    "    def transform(self, X):\n",
    "        X = np.array(X)\n",
    "        matrices = []\n",
    "        for c in range(X.shape[1]):\n",
    "            Y = X[:, c]\n",
    "            matrix = np.zeros(shape=(len(Y), len(self.values[c])), dtype=np.int8)\n",
    "            for i, x in enumerate(Y):\n",
    "                if x in self.values[c]:\n",
    "                    matrix[i][self.values[c][x]] = 1\n",
    "            matrices.append(matrix)\n",
    "        res = np.concatenate(matrices, axis=1)\n",
    "        return res"
   ]
  },
  {
   "cell_type": "code",
   "execution_count": 13,
   "metadata": {},
   "outputs": [],
   "source": [
    "def create_pipeline():\n",
    "    numerical_indices = [0,1,2,3,4,5] \n",
    "    categorical_indices = [6,7,8,9] \n",
    "    p1 = make_pipeline(PositionalSelector(categorical_indices), StripString(), SimpleOneHotEncoder())\n",
    "    p2 = make_pipeline(PositionalSelector(numerical_indices), StandardScaler())\n",
    "    feats = FeatureUnion([\n",
    "        ('numericals', p1),\n",
    "        ('categoricals', p2)\n",
    "    ])\n",
    "\n",
    "    pipeline = Pipeline([\n",
    "        ('pre', feats),\n",
    "        ('estimator', RandomForestClassifier(max_depth=15,n_estimators=100))\n",
    "    ])\n",
    "    return pipeline"
   ]
  },
  {
   "cell_type": "markdown",
   "metadata": {},
   "source": [
    "### Random Forest Classifier"
   ]
  },
  {
   "cell_type": "code",
   "execution_count": 14,
   "metadata": {},
   "outputs": [],
   "source": [
    "X=features\n",
    "y=target\n",
    "X_train, X_test, y_train, y_test = train_test_split(X,y,test_size=0.2, random_state=123)"
   ]
  },
  {
   "cell_type": "code",
   "execution_count": 15,
   "metadata": {},
   "outputs": [],
   "source": [
    "pipeline = create_pipeline()\n",
    "sample=pipeline.fit(X_train,y_train)"
   ]
  },
  {
   "cell_type": "code",
   "execution_count": 16,
   "metadata": {},
   "outputs": [
    {
     "data": {
      "text/plain": [
       "0.8935617361177942"
      ]
     },
     "execution_count": 16,
     "metadata": {},
     "output_type": "execute_result"
    }
   ],
   "source": [
    "prediction=sample.predict(X_test)\n",
    "accuracy_score(y_test, prediction)"
   ]
  },
  {
   "cell_type": "code",
   "execution_count": 21,
   "metadata": {},
   "outputs": [
    {
     "data": {
      "text/plain": [
       "0.8868550398727381"
      ]
     },
     "execution_count": 21,
     "metadata": {},
     "output_type": "execute_result"
    }
   ],
   "source": [
    "score = cross_val_score(pipeline, X, y, cv=5)\n",
    "score.mean()"
   ]
  },
  {
   "cell_type": "markdown",
   "metadata": {},
   "source": [
    "### Gradient Boosting Classifier"
   ]
  },
  {
   "cell_type": "code",
   "execution_count": 41,
   "metadata": {},
   "outputs": [],
   "source": [
    "def create_pipeline():\n",
    "    numerical_indices = [0,1,2,3,4,5] \n",
    "    categorical_indices = [6,7,8,9] \n",
    "    p1 = make_pipeline(PositionalSelector(categorical_indices), StripString(), SimpleOneHotEncoder())\n",
    "    p2 = make_pipeline(PositionalSelector(numerical_indices), StandardScaler())\n",
    "    feats = FeatureUnion([\n",
    "        ('numericals', p1),\n",
    "        ('categoricals', p2)\n",
    "    ])\n",
    "\n",
    "    pipeline = Pipeline([\n",
    "        ('pre', feats),\n",
    "        ('estimator', GradientBoostingClassifier(n_estimators=100, learning_rate=1.0,\n",
    "                                                 max_depth=1, random_state=0))\n",
    "    ])\n",
    "    return pipeline"
   ]
  },
  {
   "cell_type": "code",
   "execution_count": 136,
   "metadata": {},
   "outputs": [
    {
     "name": "stderr",
     "output_type": "stream",
     "text": [
      "/anaconda3/lib/python3.7/site-packages/sklearn/utils/validation.py:595: DataConversionWarning: Data with input dtype object was converted to float64 by StandardScaler.\n",
      "  warnings.warn(msg, DataConversionWarning)\n",
      "/anaconda3/lib/python3.7/site-packages/sklearn/utils/validation.py:595: DataConversionWarning: Data with input dtype object was converted to float64 by StandardScaler.\n",
      "  warnings.warn(msg, DataConversionWarning)\n"
     ]
    }
   ],
   "source": [
    "pipeline_1 = create_pipeline()\n",
    "sample_1=pipeline_1.fit(X_train,y_train)"
   ]
  },
  {
   "cell_type": "code",
   "execution_count": 137,
   "metadata": {},
   "outputs": [
    {
     "name": "stderr",
     "output_type": "stream",
     "text": [
      "/anaconda3/lib/python3.7/site-packages/sklearn/utils/validation.py:595: DataConversionWarning: Data with input dtype object was converted to float64 by StandardScaler.\n",
      "  warnings.warn(msg, DataConversionWarning)\n"
     ]
    },
    {
     "data": {
      "text/plain": [
       "0.9764219035703975"
      ]
     },
     "execution_count": 137,
     "metadata": {},
     "output_type": "execute_result"
    }
   ],
   "source": [
    "prediction_1=sample_1.predict(X_test)\n",
    "accuracy_score(y_test, prediction_1)"
   ]
  },
  {
   "cell_type": "markdown",
   "metadata": {},
   "source": [
    "### Extra Trees Classifier"
   ]
  },
  {
   "cell_type": "code",
   "execution_count": 86,
   "metadata": {},
   "outputs": [],
   "source": [
    "def create_pipeline():\n",
    "    numerical_indices = [0,1,2,3,4,5] \n",
    "    categorical_indices = [6,7,8,9] \n",
    "    p1 = make_pipeline(PositionalSelector(categorical_indices), StripString(), SimpleOneHotEncoder())\n",
    "    p2 = make_pipeline(PositionalSelector(numerical_indices), StandardScaler())\n",
    "    feats = FeatureUnion([\n",
    "        ('numericals', p1),\n",
    "        ('categoricals', p2)\n",
    "    ])\n",
    "\n",
    "    pipeline = Pipeline([\n",
    "        ('pre', feats),\n",
    "        ('estimator', ExtraTreesClassifier(n_estimators=100, max_depth=None,\n",
    "                                           min_samples_split=2, random_state=0))\n",
    "    ])\n",
    "    return pipeline"
   ]
  },
  {
   "cell_type": "code",
   "execution_count": 87,
   "metadata": {},
   "outputs": [],
   "source": [
    "pipeline_2 = create_pipeline()\n",
    "sample_2=pipeline_2.fit(X_train,y_train)"
   ]
  },
  {
   "cell_type": "code",
   "execution_count": 88,
   "metadata": {},
   "outputs": [
    {
     "data": {
      "text/plain": [
       "0.9764219035703975"
      ]
     },
     "execution_count": 88,
     "metadata": {},
     "output_type": "execute_result"
    }
   ],
   "source": [
    "prediction_2=sample_2.predict(X_test)\n",
    "accuracy_score(y_test, prediction_2)"
   ]
  },
  {
   "cell_type": "code",
   "execution_count": 89,
   "metadata": {},
   "outputs": [
    {
     "data": {
      "text/plain": [
       "0.9733210001607226"
      ]
     },
     "execution_count": 89,
     "metadata": {},
     "output_type": "execute_result"
    }
   ],
   "source": [
    "scores = cross_val_score(pipeline_2, X, y, cv=5)\n",
    "scores.mean()"
   ]
  },
  {
   "cell_type": "code",
   "execution_count": 98,
   "metadata": {},
   "outputs": [
    {
     "name": "stdout",
     "output_type": "stream",
     "text": [
      "0.9646196951639845\n",
      "[[3215    1  147]\n",
      " [   0 3501    0]\n",
      " [  76   21 3430]]\n"
     ]
    }
   ],
   "source": [
    "from sklearn.metrics import cohen_kappa_score\n",
    "from sklearn.metrics import confusion_matrix\n",
    "print(cohen_kappa_score(y_test, prediction_2))\n",
    "cm=confusion_matrix(y_test, prediction_2)\n",
    "print(cm)"
   ]
  },
  {
   "cell_type": "markdown",
   "metadata": {},
   "source": [
    "The accuracy score is improved with extra tree classifier. The Kappa score is lower than the overall accuracy. It is normal because he Kappa index is considered to be a more conservative measure than the overall classification accuracy.  "
   ]
  },
  {
   "cell_type": "code",
   "execution_count": 97,
   "metadata": {},
   "outputs": [
    {
     "name": "stdout",
     "output_type": "stream",
     "text": [
      "              precision    recall  f1-score   support\n",
      "\n",
      " 1: Not Safe       0.98      0.96      0.97      3363\n",
      "     2: Safe       0.99      1.00      1.00      3501\n",
      "  3: Warning       0.96      0.97      0.97      3527\n",
      "\n",
      "   micro avg       0.98      0.98      0.98     10391\n",
      "   macro avg       0.98      0.98      0.98     10391\n",
      "weighted avg       0.98      0.98      0.98     10391\n",
      "\n"
     ]
    }
   ],
   "source": [
    "from sklearn.metrics import classification_report\n",
    "target_names = ['1: Not Safe', '2: Safe', '3: Warning']\n",
    "print(classification_report(y_test, prediction_2, target_names=target_names))"
   ]
  },
  {
   "cell_type": "code",
   "execution_count": 103,
   "metadata": {},
   "outputs": [
    {
     "data": {
      "image/png": "[encoded data removed]",
      "text/plain": [
       "<Figure size 432x288 with 2 Axes>"
      ]
     },
     "metadata": {},
     "output_type": "display_data"
    }
   ],
   "source": [
    "import seaborn as sn\n",
    "labels=['1: Not Safe', '2: Safe', '3: Warning']\n",
    "fig = plt.figure()\n",
    "ax = fig.add_subplot(111)\n",
    "cax = ax.matshow(cm)\n",
    "plt.title('Confusion matrix of the extra tree classifier \\nAccuracy:{0:.3f}'.format(accuracy_score(y_test, prediction_2)),y=1.2)\n",
    "fig.colorbar(cax)\n",
    "ax.set_xticklabels([''] + labels)\n",
    "ax.set_yticklabels([''] + labels)\n",
    "plt.xlabel('Predicted')\n",
    "plt.ylabel('True')\n",
    "plt.show()"
   ]
  },
  {
   "cell_type": "code",
   "execution_count": 105,
   "metadata": {},
   "outputs": [
    {
     "data": {
      "image/png": "[encoded data removed]",
      "text/plain": [
       "<Figure size 432x288 with 2 Axes>"
      ]
     },
     "metadata": {},
     "output_type": "display_data"
    }
   ],
   "source": [
    "norm_cm = cm.astype('float') / cm.sum(axis=1)[:, np.newaxis]\n",
    "labels=['1: Not Safe', '2: Safe', '3: Warning']\n",
    "fig = plt.figure()\n",
    "ax = fig.add_subplot(111)\n",
    "cax = ax.matshow(norm_cm)\n",
    "plt.title('Normalized Confusion matrix of the extra tree classifier \\nAccuracy:{0:.3f}'.format(accuracy_score(y_test, prediction_2)),y=1.2)\n",
    "fig.colorbar(cax)\n",
    "ax.set_xticklabels([''] + labels)\n",
    "ax.set_yticklabels([''] + labels)\n",
    "plt.xlabel('Predicted')\n",
    "plt.ylabel('True')\n",
    "plt.show()"
   ]
  },
  {
   "cell_type": "code",
   "execution_count": 106,
   "metadata": {},
   "outputs": [
    {
     "data": {
      "text/plain": [
       "0.02357809642960254"
      ]
     },
     "execution_count": 106,
     "metadata": {},
     "output_type": "execute_result"
    }
   ],
   "source": [
    "from sklearn.metrics import hamming_loss\n",
    "hamming_loss(y_test, prediction_2)"
   ]
  },
  {
   "cell_type": "markdown",
   "metadata": {},
   "source": [
    "Hamming_loss value is very low, which shows the better performance of the learning algorithm."
   ]
  },
  {
   "cell_type": "code",
   "execution_count": 148,
   "metadata": {},
   "outputs": [
    {
     "name": "stdout",
     "output_type": "stream",
     "text": [
      "[('MaximumCapacity', 0.00010761348261489092), ('ViolationRatePercent', 0.0014042855508064466), ('TotalEducationalWorkers', 5.011412309221521e-06), ('PublicHealthHazardViolationRate', 0.0008402926869307131), ('CriticalViolationRate', 0.00017738613921541705), ('time', 8.981633317969614e-05), ('RegulationSummary', 2.0288753190223194e-06), ('InspectionSummaryResult', 0.0002917593830964625), ('Borough', 1.7748047993655098e-05), ('FacilityType', 1.1952568199891351e-05)]\n"
     ]
    }
   ],
   "source": [
    "feature_importances=pipeline_2.steps[1][1].feature_importances_\n",
    "viz=list(zip(X.columns, feature_importances))\n",
    "print(viz)"
   ]
  }
 ],
 "metadata": {
  "kernelspec": {
   "display_name": "Python 3",
   "language": "python",
   "name": "python3"
  },
  "language_info": {
   "codemirror_mode": {
    "name": "ipython",
    "version": 3
   },
   "file_extension": ".py",
   "mimetype": "text/x-python",
   "name": "python",
   "nbconvert_exporter": "python",
   "pygments_lexer": "ipython3",
   "version": "3.7.1"
  }
 },
 "nbformat": 4,
 "nbformat_minor": 2
}
